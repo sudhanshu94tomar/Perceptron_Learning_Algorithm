{
 "cells": [
  {
   "cell_type": "code",
   "execution_count": 1,
   "id": "3615f708-9bb3-4236-b9c2-83dc24637aab",
   "metadata": {},
   "outputs": [],
   "source": [
    "import numpy as np\n",
    "import matplotlib.pyplot as plt\n",
    "\n",
    "from sklearn import datasets  # for dummy data"
   ]
  },
  {
   "cell_type": "markdown",
   "id": "6fd0301b-5f25-46a9-90f5-33aa0b05930c",
   "metadata": {},
   "source": [
    "### Creating dummy data"
   ]
  },
  {
   "cell_type": "code",
   "execution_count": 2,
   "id": "97e20b9e-e2ba-425e-a04c-412cfc0d7674",
   "metadata": {},
   "outputs": [
    {
     "data": {
      "image/png": "[encoded data removed]",
      "text/plain": [
       "<Figure size 432x288 with 1 Axes>"
      ]
     },
     "metadata": {
      "needs_background": "light"
     },
     "output_type": "display_data"
    }
   ],
   "source": [
    "x, y = datasets.make_blobs(n_samples=200, centers=2, n_features=2, center_box=(0, 10))\n",
    "plt.plot(x[:, 0][y == 0], x[:, 1][y == 0], 'g^')\n",
    "plt.plot(x[:, 0][y == 1], x[:, 1][y == 1], 'bs')\n",
    "plt.show()"
   ]
  },
  {
   "cell_type": "code",
   "execution_count": 3,
   "id": "0521db54-4754-4d91-9c46-b52994bf5550",
   "metadata": {},
   "outputs": [
    {
     "data": {
      "text/plain": [
       "array([0, 1])"
      ]
     },
     "execution_count": 3,
     "metadata": {},
     "output_type": "execute_result"
    }
   ],
   "source": [
    "np.unique(y)"
   ]
  },
  {
   "cell_type": "markdown",
   "id": "ecbd8255-c17d-4d26-b612-55e44c0ec8c3",
   "metadata": {},
   "source": [
    "**converting taget to -1, 1**"
   ]
  },
  {
   "cell_type": "code",
   "execution_count": 54,
   "id": "b148c70a-12b3-4ed8-b41c-63cbc7025b16",
   "metadata": {},
   "outputs": [
    {
     "data": {
      "text/plain": [
       "array([-1,  1])"
      ]
     },
     "execution_count": 54,
     "metadata": {},
     "output_type": "execute_result"
    }
   ],
   "source": [
    "y[y==0] = -1\n",
    "np.unique(y)"
   ]
  },
  {
   "cell_type": "markdown",
   "id": "b35225b9-efba-4b20-9122-438a0b7a0935",
   "metadata": {},
   "source": [
    "### Funtion to plot the classification and Decision Boundary"
   ]
  },
  {
   "cell_type": "code",
   "execution_count": 55,
   "id": "3882b008-265c-44b4-8149-73167f1b1173",
   "metadata": {},
   "outputs": [],
   "source": [
    "def show(w, w0, x, y):\n",
    "    slope = -w[0]/w[1]    # -a/b\n",
    "    intercept = -w0/w[1]  # -c/b\n",
    "    hplane_x = np.arange(10)\n",
    "    hplane_y = slope*hplane_x + intercept\n",
    "    plt.plot(hplane_x, hplane_y)                        # show h-plane\n",
    "    plt.plot(x[:, 0][y == -1], x[:, 1][y == -1], 'bs')  # show classes\n",
    "    plt.plot(x[:, 0][y == 1], x[:, 1][y == 1], 'g^')\n",
    "    plt.show()"
   ]
  },
  {
   "cell_type": "markdown",
   "id": "81611f03-aa28-42e7-a9cd-5cb210c44ca6",
   "metadata": {},
   "source": [
    "### Algo with single (first) point"
   ]
  },
  {
   "cell_type": "code",
   "execution_count": 56,
   "id": "4716b146-e7c7-42ab-b792-43b02cfe9473",
   "metadata": {},
   "outputs": [],
   "source": [
    "def algorithm(x, y, w, w0):\n",
    "    for iteration in range(5000):  # many iterations\n",
    "        miss_cls = 0\n",
    "        for point in range(len(x)): # for each point\n",
    "            hs = np.sign(np.dot(w, x[point]) + w0) # half space\n",
    "            if hs != np.sign(y[point]):\n",
    "                miss_cls += 1\n",
    "                w += x[point]*np.sign(y[point])  # update equations\n",
    "                w0 += np.sign(y[point])\n",
    "                break # break after first point\n",
    "\n",
    "        if miss_cls==0:\n",
    "            show(w, w0, x, y)\n",
    "            print('N_iter', iteration, '| 98% accuracy!!. Good DB is achieved')\n",
    "            break        \n",
    "        \n",
    "        if iteration % 500 == 0:\n",
    "            show(w, w0, x, y)\n",
    "            print('N_iter', iteration, '| Accuracy:', 1 - round(miss_cls / len(x), 2))\n",
    "    return w, w0"
   ]
  },
  {
   "cell_type": "markdown",
   "id": "605f2a32-92b1-4c28-80b8-55731a6f0eff",
   "metadata": {},
   "source": [
    "### Algo with averages of all points"
   ]
  },
  {
   "cell_type": "code",
   "execution_count": 57,
   "id": "fab0fb9a-dc12-414f-b95a-317ddf573f87",
   "metadata": {},
   "outputs": [],
   "source": [
    "def algorithm(x, y, w, w0):\n",
    "    for iteration in range(5000):\n",
    "        miss_cls = 0\n",
    "        sum_miss_cls_vect = 0\n",
    "        sum_bias = 0\n",
    "        for point in range(len(x)):\n",
    "            hs = np.sign(np.dot(w, x[point]) + w0) # half space\n",
    "            if hs != np.sign(y[point]):\n",
    "                miss_cls += 1\n",
    "                sum_miss_cls_vect += x[point]*np.sign(y[point])\n",
    "                sum_bias += np.sign(y[point])\n",
    "\n",
    "        if ((miss_cls / len(x)) < 0.02):\n",
    "            show(w, w0, x, y)\n",
    "            print('N_iter', iteration, '| 98% accuracy!!. Good DB is achieved')\n",
    "            break\n",
    "        \n",
    "        w = w + sum_miss_cls_vect / miss_cls\n",
    "        w0 = w0 + sum_bias / miss_cls\n",
    "        \n",
    "        \n",
    "        if iteration % 500 == 0:\n",
    "            show(w, w0, x, y)\n",
    "            print('N_iter', iteration, '| Accuracy:', 1 - round(miss_cls / len(x), 2))\n",
    "    return w, w0"
   ]
  },
  {
   "cell_type": "markdown",
   "id": "8c1a53e9-a02e-4e49-830e-e9f264e076c7",
   "metadata": {},
   "source": [
    "### Intial Condtions"
   ]
  },
  {
   "cell_type": "code",
   "execution_count": 58,
   "id": "dcc52aa7-74ec-4fac-a2b8-b6c9a5bf4c46",
   "metadata": {},
   "outputs": [
    {
     "data": {
      "text/plain": [
       "(array([-0.80005873,  0.75084836]), -0.4555292548037336)"
      ]
     },
     "execution_count": 58,
     "metadata": {},
     "output_type": "execute_result"
    }
   ],
   "source": [
    "w = np.random.normal(size=(2,))\n",
    "w0 = np.random.normal()\n",
    "w, w0"
   ]
  },
  {
   "cell_type": "code",
   "execution_count": 59,
   "id": "31d8632b-82b3-4461-9f85-32c4424f84f0",
   "metadata": {},
   "outputs": [
    {
     "data": {
      "image/png": "[encoded data removed]",
      "text/plain": [
       "<Figure size 432x288 with 1 Axes>"
      ]
     },
     "metadata": {
      "needs_background": "light"
     },
     "output_type": "display_data"
    }
   ],
   "source": [
    "show(w, w0, x, y)"
   ]
  },
  {
   "cell_type": "code",
   "execution_count": 60,
   "id": "6117ee87-6e70-4e8a-ba2f-c7370c097c61",
   "metadata": {},
   "outputs": [
    {
     "data": {
      "image/png": "[encoded data removed]",
      "text/plain": [
       "<Figure size 432x288 with 1 Axes>"
      ]
     },
     "metadata": {
      "needs_background": "light"
     },
     "output_type": "display_data"
    },
    {
     "name": "stdout",
     "output_type": "stream",
     "text": [
      "N_iter 0 | Accuracy: 0.030000000000000027\n"
     ]
    },
    {
     "data": {
      "image/png": "[encoded data removed]",
      "text/plain": [
       "<Figure size 432x288 with 1 Axes>"
      ]
     },
     "metadata": {
      "needs_background": "light"
     },
     "output_type": "display_data"
    },
    {
     "name": "stdout",
     "output_type": "stream",
     "text": [
      "N_iter 58 | 98% accuracy!!. Good DB is achieved\n"
     ]
    },
    {
     "data": {
      "text/plain": [
       "(array([ 29.05948887, -27.43768906]), 4.670636675485908)"
      ]
     },
     "execution_count": 60,
     "metadata": {},
     "output_type": "execute_result"
    }
   ],
   "source": [
    "algorithm(x, y, w, w0)"
   ]
  },
  {
   "cell_type": "code",
   "execution_count": null,
   "id": "33714c76-1971-4567-9dfd-c2579f023821",
   "metadata": {},
   "outputs": [],
   "source": []
  }
 ],
 "metadata": {
  "kernelspec": {
   "display_name": "Python 3 (ipykernel)",
   "language": "python",
   "name": "python3"
  },
  "language_info": {
   "codemirror_mode": {
    "name": "ipython",
    "version": 3
   },
   "file_extension": ".py",
   "mimetype": "text/x-python",
   "name": "python",
   "nbconvert_exporter": "python",
   "pygments_lexer": "ipython3",
   "version": "3.9.12"
  }
 },
 "nbformat": 4,
 "nbformat_minor": 5
}
